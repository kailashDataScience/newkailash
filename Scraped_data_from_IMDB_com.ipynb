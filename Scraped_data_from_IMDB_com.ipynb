{
  "nbformat": 4,
  "nbformat_minor": 0,
  "metadata": {
    "colab": {
      "provenance": [],
      "authorship_tag": "ABX9TyNeTrUHulkPbKQc/4t1K7g1",
      "include_colab_link": true
    },
    "kernelspec": {
      "name": "python3",
      "display_name": "Python 3"
    },
    "language_info": {
      "name": "python"
    }
  },
  "cells": [
    {
      "cell_type": "markdown",
      "metadata": {
        "id": "view-in-github",
        "colab_type": "text"
      },
      "source": [
        "<a href=\"https://colab.research.google.com/github/kailashDataScience/newkailash/blob/main/Scraped_data_from_IMDB_com.ipynb\" target=\"_parent\"><img src=\"https://colab.research.google.com/assets/colab-badge.svg\" alt=\"Open In Colab\"/></a>"
      ]
    },
    {
      "cell_type": "code",
      "execution_count": 1,
      "metadata": {
        "id": "N9wwrc81aQfE"
      },
      "outputs": [],
      "source": [
        "from bs4 import BeautifulSoup\n",
        "import requests,openpyxl"
      ]
    },
    {
      "cell_type": "code",
      "source": [
        "excel = openpyxl.Workbook()\n",
        "sheet = excel.active\n",
        "sheet.title = 'movie list'\n",
        "sheet.append([\"Rank\",\"Movie Name \",\"Year\",\"IMDB Rating\"])"
      ],
      "metadata": {
        "id": "0WUKCA3vHaV9"
      },
      "execution_count": 40,
      "outputs": []
    },
    {
      "cell_type": "code",
      "source": [
        "try:\n",
        "  res = requests.get(\"https://www.imdb.com/chart/top/?ref_=nv_mv_250\")\n",
        "  soup = BeautifulSoup(res.text,\"html.parser\")\n",
        "  movies = soup.find('tbody',class_='lister-list').find_all('tr')\n",
        "  \n",
        "  for movie in movies:\n",
        "    rank = movie.find('td',class_='titleColumn').get_text(strip=True).split('.')[0]\n",
        "    movie_name = movie.find('td',class_='titleColumn').a.text\n",
        "    movie_rate = movie.find('td',class_='ratingColumn').strong.text\n",
        "    year = movie.find('td',class_='titleColumn').span.text.strip('(,)')\n",
        "    #print(rank,movie_name,year,movie_rate)\n",
        "\n",
        "    sheet.append([rank,movie_name,year,movie_rate])\n",
        "    \n",
        "except Exception as e:\n",
        "  print(e)"
      ],
      "metadata": {
        "id": "wLywuYdlaWR-"
      },
      "execution_count": 41,
      "outputs": []
    },
    {
      "cell_type": "code",
      "source": [
        "excel.save(\"movies.xlsx\")"
      ],
      "metadata": {
        "id": "rd-GLwyWaltn"
      },
      "execution_count": 90,
      "outputs": []
    },
    {
      "cell_type": "code",
      "source": [
        "\n",
        "excel2 = openpyxl.Workbook()\n",
        "sheet1 = excel.active\n",
        "sheet1.title = 'movie list'\n",
        "sheet1.append([\"Rank\",\"Movie Name \",\"Year\",\"IMDB Rating\"])"
      ],
      "metadata": {
        "id": "PJWs4z1IURmV"
      },
      "execution_count": 91,
      "outputs": []
    },
    {
      "cell_type": "code",
      "source": [
        "#name,year,directer,rating,notes,groce\n",
        "try:\n",
        "  res = requests.get(\"https://www.imdb.com/search/title/?genres=adventure&sort=user_rating,\\\n",
        "  desc&title_type=feature&num_votes=25000,\\\n",
        "  &pf_rd_m=A2FGELUUNOQJNL&pf_rd_p=94365f40-17a1-4450-9ea8-01159990ef7f&pf_rd_r=KJA7MGXM6F6HEM8MBKDG&pf_rd_s=right-6&pf_rd_t=15506&pf_rd_i=top&ref_=chttp_gnr_2\")\n",
        "  soup = BeautifulSoup(res.text,\"html.parser\")\n",
        "  movies = soup.find('div',class_='lister-list').find_all('div',class_='lister-item-content')\n",
        "  #print(movies)\n",
        "\n",
        "\n",
        "  for movie in movies:\n",
        "    rank = movie.find('h3',class_='lister-item-header').span.text.split('.')[0]\n",
        "    movie_name = movie.find('h3',class_='lister-item-header').a.text\n",
        "    year = movie.find('h3',class_='lister-item-header').find('span',class_='lister-item-year text-muted unbold').text.strip('(,)')\n",
        "    rating = movie.find('strong').text\n",
        "    print(rank,movie_name,year,rating)\n",
        "    sheet1.append([rank,movie_name,year,rating])\n",
        "    \n",
        "except Exception as e:\n",
        "  print(e)"
      ],
      "metadata": {
        "colab": {
          "base_uri": "https://localhost:8080/"
        },
        "id": "N0v5G8jWa2sh",
        "outputId": "e615e551-f56a-4b21-b673-148d630aa98a"
      },
      "execution_count": 92,
      "outputs": [
        {
          "output_type": "stream",
          "name": "stdout",
          "text": [
            "1 The Lord of the Rings: The Return of the King 2003 9.0\n",
            "2 Inception 2010 8.8\n",
            "3 The Lord of the Rings: The Fellowship of the Ring 2001 8.8\n",
            "4 The Lord of the Rings: The Two Towers 2002 8.8\n",
            "5 The Good, the Bad and the Ugly 1966 8.8\n",
            "6 777 Charlie 2022 8.8\n",
            "7 Star Wars: Episode V - The Empire Strikes Back 1980 8.7\n",
            "8 Interstellar 2014 8.6\n",
            "9 Star Wars 1977 8.6\n",
            "10 Spirited Away 2001 8.6\n",
            "11 Gladiator 2000 8.5\n",
            "12 Back to the Future 1985 8.5\n",
            "13 The Lion King 1994 8.5\n",
            "14 Kaithi 2019 8.5\n",
            "15 Avengers: Endgame 2019 8.4\n",
            "16 Spider-Man: Into the Spider-Verse 2018 8.4\n",
            "17 Raiders of the Lost Ark 1981 8.4\n",
            "18 Aliens 1986 8.4\n",
            "19 Avengers: Infinity War 2018 8.4\n",
            "20 Coco I) (2017 8.4\n",
            "21 WALL·E 2008 8.4\n",
            "22 Inglourious Basterds 2009 8.3\n",
            "23 2001: A Space Odyssey 1968 8.3\n",
            "24 Star Wars: Episode VI - Return of the Jedi 1983 8.3\n",
            "25 Toy Story 1995 8.3\n",
            "26 Up 2009 8.3\n",
            "27 Lawrence of Arabia 1962 8.3\n",
            "28 Princess Mononoke 1997 8.3\n",
            "29 Toy Story 3 2010 8.3\n",
            "30 North by Northwest 1959 8.3\n",
            "31 Kantara 2022 8.3\n",
            "32 Spider-Man: No Way Home 2021 8.2\n",
            "33 Jurassic Park 1993 8.2\n",
            "34 Howl's Moving Castle 2004 8.2\n",
            "35 Finding Nemo 2003 8.2\n",
            "36 Indiana Jones and the Last Crusade 1989 8.2\n",
            "37 Demon Slayer the Movie: Mugen Train 2020 8.2\n",
            "38 Monty Python and the Holy Grail 1975 8.2\n",
            "39 The Great Escape 1963 8.2\n",
            "40 The Treasure of the Sierra Madre 1948 8.2\n",
            "41 Klaus 2019 8.2\n",
            "42 The Wages of Fear 1953 8.2\n",
            "43 Dersu Uzala 1975 8.2\n",
            "44 Mad Max: Fury Road 2015 8.1\n",
            "45 The Grand Budapest Hotel 2014 8.1\n",
            "46 Pirates of the Caribbean: The Curse of the Black Pearl 2003 8.1\n",
            "47 Stand by Me 1986 8.1\n",
            "48 Harry Potter and the Deathly Hallows: Part 2 2011 8.1\n",
            "49 Ratatouille 2007 8.1\n",
            "50 How to Train Your Dragon 2010 8.1\n"
          ]
        }
      ]
    },
    {
      "cell_type": "code",
      "source": [
        "excel2.save(\"advendure_movies.xlsx\")"
      ],
      "metadata": {
        "id": "gClIiz6ybcTt"
      },
      "execution_count": 93,
      "outputs": []
    },
    {
      "cell_type": "code",
      "source": [],
      "metadata": {
        "id": "jwGuWEt7Uxr0"
      },
      "execution_count": null,
      "outputs": []
    }
  ]
}